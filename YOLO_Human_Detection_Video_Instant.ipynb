{
  "nbformat": 4,
  "nbformat_minor": 0,
  "metadata": {
    "colab": {
      "provenance": [],
      "gpuType": "T4",
      "name": "YOLO_Human_Detection_Video_Instant.ipynb",
      "authorship_tag": "ABX9TyM7xg5PQx2+R1BAYeSN7lS8",
      "include_colab_link": true
    },
    "kernelspec": {
      "name": "python3",
      "display_name": "Python 3"
    },
    "language_info": {
      "name": "python"
    },
    "accelerator": "GPU"
  },
  "cells": [
    {
      "cell_type": "markdown",
      "metadata": {
        "id": "view-in-github",
        "colab_type": "text"
      },
      "source": [
        "<a href=\"https://colab.research.google.com/github/jj132535/YOLOv8-human-video-detection/blob/main/YOLO_Human_Detection_Video_Instant.ipynb\" target=\"_parent\"><img src=\"https://colab.research.google.com/assets/colab-badge.svg\" alt=\"Open In Colab\"/></a>"
      ]
    },
    {
      "cell_type": "code",
      "source": [
        "!pip install PyYAML\n",
        "!pip install ultralytics\n",
        "!pip install roboflow"
      ],
      "metadata": {
        "id": "dq7ExbRkOTYE"
      },
      "execution_count": null,
      "outputs": []
    },
    {
      "cell_type": "code",
      "source": [
        "import yaml\n",
        "import ultralytics\n",
        "from roboflow import Roboflow\n",
        "from ultralytics import YOLO"
      ],
      "metadata": {
        "id": "30OZ3EowPOHw"
      },
      "execution_count": null,
      "outputs": []
    },
    {
      "cell_type": "code",
      "source": [
        "#add your video path\n",
        "video_path = '/content/dreamcatcher.mp4'\n",
        "\n",
        "#your own api_key\n",
        "roboflow_api_key = 'BaQK3K31NGd7tpZicwDT'\n",
        "\n",
        "# !! PUT yolov8_trained_model.pt FILE INTO /content/ !!\n",
        "#trained model\n",
        "trained_model_path = '/content/yolov8_trained_model.pt'"
      ],
      "metadata": {
        "id": "1HC3vIm2OTRV"
      },
      "execution_count": null,
      "outputs": []
    },
    {
      "cell_type": "code",
      "source": [
        "# 저장된 모델 불러오기\n",
        "model = YOLO(trained_model_path)"
      ],
      "metadata": {
        "id": "krHeDkSiRfNS"
      },
      "execution_count": null,
      "outputs": []
    },
    {
      "cell_type": "code",
      "source": [
        "results = model.predict(source=video_path, save=True)"
      ],
      "metadata": {
        "id": "KCaojornRyls"
      },
      "execution_count": null,
      "outputs": []
    }
  ]
}