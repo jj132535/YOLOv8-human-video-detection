{
  "nbformat": 4,
  "nbformat_minor": 0,
  "metadata": {
    "colab": {
      "provenance": [],
      "gpuType": "T4",
      "mount_file_id": "1E2ESnre4_Iar2Z0Dqjg6MRx9Ub5_J1_3",
      "authorship_tag": "ABX9TyPLIdShViOtlevVk9Dub+QA",
      "include_colab_link": true
    },
    "kernelspec": {
      "name": "python3",
      "display_name": "Python 3"
    },
    "language_info": {
      "name": "python"
    },
    "accelerator": "GPU"
  },
  "cells": [
    {
      "cell_type": "markdown",
      "metadata": {
        "id": "view-in-github",
        "colab_type": "text"
      },
      "source": [
        "<a href=\"https://colab.research.google.com/github/jj132535/YOLOv8-human-video-detection/blob/main/yolotest_v2.ipynb\" target=\"_parent\"><img src=\"https://colab.research.google.com/assets/colab-badge.svg\" alt=\"Open In Colab\"/></a>"
      ]
    },
    {
      "cell_type": "code",
      "source": [
        "video_link = '/content/drive/MyDrive/YOLO video assets/16-9_CHUU_Strawberry.mp4'\n",
        "# '/content/aespa-Whiplash.mp4'\n",
        "output_video_path = '/content/output_video_chuu.mp4'"
      ],
      "metadata": {
        "id": "uQkrvpmORXSt"
      },
      "execution_count": null,
      "outputs": []
    },
    {
      "cell_type": "code",
      "source": [
        "!pip install roboflow\n",
        "\n",
        "from roboflow import Roboflow\n",
        "rf = Roboflow(api_key=\"BaQK3K31NGd7tpZicwDT\")\n",
        "project = rf.workspace(\"chris-kydks\").project(\"people-detection-2csbw\")\n",
        "version = project.version(11)\n",
        "dataset = version.download(\"yolov8\")\n"
      ],
      "metadata": {
        "id": "KZSB_dwrvJlR"
      },
      "execution_count": null,
      "outputs": []
    },
    {
      "cell_type": "code",
      "source": [
        "!cat /content/People-Detection-11/data.yaml"
      ],
      "metadata": {
        "id": "BBtHcS07tnXB"
      },
      "execution_count": null,
      "outputs": []
    },
    {
      "cell_type": "code",
      "source": [
        "!pip install PyYAML"
      ],
      "metadata": {
        "id": "dq7ExbRkOTYE"
      },
      "execution_count": null,
      "outputs": []
    },
    {
      "cell_type": "code",
      "source": [
        "import yaml\n",
        "\n",
        "data = { 'train' : '/content/People-Detection-11/train/images',\n",
        "         'val' : '/content/People-Detection-11/valid/images',\n",
        "         'test' : '/content/People-Detection-11/test/images',\n",
        "          'names' : ['Person'],\n",
        "          'nc' : 1}\n",
        "\n",
        "with open('/content/People-Detection-11/test-data.yaml', 'w') as f:\n",
        "  yaml.dump(data, f)\n",
        "\n",
        "with open('/content/People-Detection-11/test-data.yaml','r') as f:\n",
        "  people_data = yaml.safe_load(f)\n",
        "  display(people_data)"
      ],
      "metadata": {
        "id": "tPyPsX45Olda"
      },
      "execution_count": null,
      "outputs": []
    },
    {
      "cell_type": "code",
      "source": [
        "!pip install ultralytics"
      ],
      "metadata": {
        "id": "sYU6sTKsP9UD"
      },
      "execution_count": null,
      "outputs": []
    },
    {
      "cell_type": "code",
      "source": [
        "import ultralytics\n",
        "\n",
        "\n",
        "ultralytics.checks()"
      ],
      "metadata": {
        "id": "Hd49oufdQDYT"
      },
      "execution_count": null,
      "outputs": []
    },
    {
      "cell_type": "code",
      "source": [
        "from ultralytics import YOLO\n",
        "\n",
        "model = YOLO('yolov8n.pt')"
      ],
      "metadata": {
        "id": "r0bGqNpaQMpL"
      },
      "execution_count": null,
      "outputs": []
    },
    {
      "cell_type": "code",
      "source": [
        "print(type(model.names), len(model.names))\n",
        "\n",
        "print(model.names)"
      ],
      "metadata": {
        "id": "Tu5EQKgSQZzE"
      },
      "execution_count": null,
      "outputs": []
    },
    {
      "cell_type": "code",
      "source": [
        "model.train(data = '/content/People-Detection-11/test-data.yaml', epochs = 10, batch =32, imgsz = 416)"
      ],
      "metadata": {
        "id": "Fx2XhiobRFih"
      },
      "execution_count": null,
      "outputs": []
    },
    {
      "cell_type": "code",
      "source": [
        "print(type(model.names), len(model.names))\n",
        "\n",
        "print(model.names)"
      ],
      "metadata": {
        "id": "oH6nl56IRTBY"
      },
      "execution_count": null,
      "outputs": []
    },
    {
      "cell_type": "code",
      "source": [
        "#results = model.predict(source= video_link, save=True)"
      ],
      "metadata": {
        "id": "KCaojornRyls"
      },
      "execution_count": null,
      "outputs": []
    },
    {
      "cell_type": "code",
      "source": [
        "## 영상 리프레이밍"
      ],
      "metadata": {
        "id": "zhbFV7I6Pks3"
      },
      "execution_count": null,
      "outputs": []
    },
    {
      "cell_type": "code",
      "source": [
        "import cv2\n",
        "import torch\n",
        "\n",
        "# 비디오 저장 설정 (세로 비율 9:16)\n",
        "width, height = 1080, 1920\n",
        "fourcc = cv2.VideoWriter_fourcc(*'mp4v')\n",
        "out = cv2.VideoWriter(output_video_path, fourcc, 30, (width, height))"
      ],
      "metadata": {
        "id": "pzroSdWpQ6Hu"
      },
      "execution_count": null,
      "outputs": []
    },
    {
      "cell_type": "code",
      "source": [
        "# YOLO 모델로 비디오 처리 (탐지된 객체 저장 포함)\n",
        "results = model(source=video_link, stream=True)"
      ],
      "metadata": {
        "id": "0xAz4S9sROLl"
      },
      "execution_count": null,
      "outputs": []
    },
    {
      "cell_type": "code",
      "source": [
        "# 초기 설정\n",
        "frame_count = 0\n",
        "\n",
        "# 각 프레임에 대해 탐지된 객체를 기준으로 리프레이밍\n",
        "for r in results:\n",
        "    frame = r.orig_img  # 원본 프레임 가져오기\n",
        "    bboxes = r.boxes.xywh if hasattr(r, 'boxes') and r.boxes is not None else None\n",
        "    frame_count += 1\n",
        "\n",
        "    if frame_count >= 3:  # 첫 두 프레임은 건너뜀\n",
        "        if bboxes is not None and bboxes.shape[0] > 0:\n",
        "            for bbox in bboxes.cpu().numpy():  # numpy 배열로 변환하여 사용\n",
        "                x_center, y_center, box_width, box_height = bbox\n",
        "\n",
        "                # 탐지된 객체의 중심을 기준으로 세로로 크롭\n",
        "                x1 = int(x_center - width / 2)\n",
        "                x2 = int(x_center + width / 2)\n",
        "                y1 = 0\n",
        "                y2 = frame.shape[0]  # 원래 높이를 유지\n",
        "\n",
        "                # 프레임의 경계를 벗어나는 경우 조정\n",
        "                x1 = max(0, x1)\n",
        "                x2 = min(frame.shape[1], x2)\n",
        "\n",
        "                cropped_frame = frame[y1:y2, x1:x2]  # 세로로 크롭된 프레임\n",
        "                resized_frame = cv2.resize(cropped_frame, (width, height))\n",
        "                out.write(resized_frame)  # 비디오에 작성\n",
        "        else:\n",
        "            print(f\"No detections in frame {frame_count}\")\n"
      ],
      "metadata": {
        "id": "FA5yv0RsSFA9"
      },
      "execution_count": null,
      "outputs": []
    },
    {
      "cell_type": "code",
      "source": [
        "# VideoWriter 객체 닫기\n",
        "out.release()"
      ],
      "metadata": {
        "id": "isQeD6QpSH35"
      },
      "execution_count": null,
      "outputs": []
    },
    {
      "cell_type": "code",
      "source": [
        "print(\"Video reframing complete and saved to:\", output_video_path)"
      ],
      "metadata": {
        "id": "CULfgOMWSKQt"
      },
      "execution_count": null,
      "outputs": []
    }
  ]
}