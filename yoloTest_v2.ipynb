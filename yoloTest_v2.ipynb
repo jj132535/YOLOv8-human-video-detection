{
  "nbformat": 4,
  "nbformat_minor": 0,
  "metadata": {
    "colab": {
      "provenance": [],
      "gpuType": "T4",
      "mount_file_id": "1E2ESnre4_Iar2Z0Dqjg6MRx9Ub5_J1_3",
      "authorship_tag": "ABX9TyNKJyHZsNM0IrPNdJsH8T14",
      "include_colab_link": true
    },
    "kernelspec": {
      "name": "python3",
      "display_name": "Python 3"
    },
    "language_info": {
      "name": "python"
    },
    "accelerator": "GPU"
  },
  "cells": [
    {
      "cell_type": "markdown",
      "metadata": {
        "id": "view-in-github",
        "colab_type": "text"
      },
      "source": [
        "<a href=\"https://colab.research.google.com/github/jj132535/YOLOv8-human-video-detection/blob/main/yoloTest_v2.ipynb\" target=\"_parent\"><img src=\"https://colab.research.google.com/assets/colab-badge.svg\" alt=\"Open In Colab\"/></a>"
      ]
    },
    {
      "cell_type": "code",
      "source": [
        "video_link = '/content/drive/MyDrive/YOLO video assets/16-9_CHUU_Strawberry.mp4'\n",
        "# '/content/aespa-Whiplash.mp4'\n",
        "output_video_path = '/content/output_video_chuu.mp4'"
      ],
      "metadata": {
        "id": "uQkrvpmORXSt"
      },
      "execution_count": null,
      "outputs": []
    },
    {
      "cell_type": "code",
      "source": [
        "!pip install roboflow\n",
        "\n",
        "from roboflow import Roboflow\n",
        "rf = Roboflow(api_key=\"BaQK3K31NGd7tpZicwDT\")\n",
        "project = rf.workspace(\"chris-kydks\").project(\"people-detection-2csbw\")\n",
        "version = project.version(11)\n",
        "dataset = version.download(\"yolov8\")\n"
      ],
      "metadata": {
        "id": "KZSB_dwrvJlR"
      },
      "execution_count": null,
      "outputs": []
    },
    {
      "cell_type": "code",
      "source": [
        "!cat /content/People-Detection-11/data.yaml"
      ],
      "metadata": {
        "id": "BBtHcS07tnXB"
      },
      "execution_count": null,
      "outputs": []
    },
    {
      "cell_type": "code",
      "source": [
        "!pip install PyYAML"
      ],
      "metadata": {
        "id": "dq7ExbRkOTYE"
      },
      "execution_count": null,
      "outputs": []
    },
    {
      "cell_type": "code",
      "source": [
        "import yaml\n",
        "\n",
        "data = { 'train' : '/content/People-Detection-11/train/images',\n",
        "         'val' : '/content/People-Detection-11/valid/images',\n",
        "         'test' : '/content/People-Detection-11/test/images',\n",
        "          'names' : ['Person'],\n",
        "          'nc' : 1}\n",
        "\n",
        "with open('/content/People-Detection-11/test-data.yaml', 'w') as f:\n",
        "  yaml.dump(data, f)\n",
        "\n",
        "with open('/content/People-Detection-11/test-data.yaml','r') as f:\n",
        "  people_data = yaml.safe_load(f)\n",
        "  display(people_data)"
      ],
      "metadata": {
        "id": "tPyPsX45Olda"
      },
      "execution_count": null,
      "outputs": []
    },
    {
      "cell_type": "code",
      "source": [
        "!pip install ultralytics"
      ],
      "metadata": {
        "id": "sYU6sTKsP9UD"
      },
      "execution_count": null,
      "outputs": []
    },
    {
      "cell_type": "code",
      "source": [
        "import ultralytics\n",
        "\n",
        "\n",
        "ultralytics.checks()"
      ],
      "metadata": {
        "id": "Hd49oufdQDYT"
      },
      "execution_count": null,
      "outputs": []
    },
    {
      "cell_type": "code",
      "source": [
        "from ultralytics import YOLO\n",
        "\n",
        "model = YOLO('yolov8n.pt')"
      ],
      "metadata": {
        "id": "r0bGqNpaQMpL"
      },
      "execution_count": null,
      "outputs": []
    },
    {
      "cell_type": "code",
      "source": [
        "print(type(model.names), len(model.names))\n",
        "\n",
        "print(model.names)"
      ],
      "metadata": {
        "id": "Tu5EQKgSQZzE"
      },
      "execution_count": null,
      "outputs": []
    },
    {
      "cell_type": "code",
      "source": [
        "model.train(data = '/content/People-Detection-11/test-data.yaml', epochs = 10, batch =32, imgsz = 416)"
      ],
      "metadata": {
        "colab": {
          "base_uri": "https://localhost:8080/"
        },
        "id": "Fx2XhiobRFih",
        "outputId": "3d0c0e06-a57e-4c65-a887-adaa57183a99"
      },
      "execution_count": null,
      "outputs": [
        {
          "output_type": "stream",
          "name": "stdout",
          "text": [
            "Ultralytics 8.3.27 🚀 Python-3.10.12 torch-2.5.0+cu121 CPU (Intel Xeon 2.20GHz)\n",
            "\u001b[34m\u001b[1mengine/trainer: \u001b[0mtask=detect, mode=train, model=yolov8n.pt, data=/content/People-Detection-11/test-data.yaml, epochs=10, time=None, patience=100, batch=32, imgsz=416, save=True, save_period=-1, cache=False, device=None, workers=8, project=None, name=train, exist_ok=False, pretrained=True, optimizer=auto, verbose=True, seed=0, deterministic=True, single_cls=False, rect=False, cos_lr=False, close_mosaic=10, resume=False, amp=True, fraction=1.0, profile=False, freeze=None, multi_scale=False, overlap_mask=True, mask_ratio=4, dropout=0.0, val=True, split=val, save_json=False, save_hybrid=False, conf=None, iou=0.7, max_det=300, half=False, dnn=False, plots=True, source=None, vid_stride=1, stream_buffer=False, visualize=False, augment=False, agnostic_nms=False, classes=None, retina_masks=False, embed=None, show=False, save_frames=False, save_txt=False, save_conf=False, save_crop=False, show_labels=True, show_conf=True, show_boxes=True, line_width=None, format=torchscript, keras=False, optimize=False, int8=False, dynamic=False, simplify=True, opset=None, workspace=4, nms=False, lr0=0.01, lrf=0.01, momentum=0.937, weight_decay=0.0005, warmup_epochs=3.0, warmup_momentum=0.8, warmup_bias_lr=0.1, box=7.5, cls=0.5, dfl=1.5, pose=12.0, kobj=1.0, label_smoothing=0.0, nbs=64, hsv_h=0.015, hsv_s=0.7, hsv_v=0.4, degrees=0.0, translate=0.1, scale=0.5, shear=0.0, perspective=0.0, flipud=0.0, fliplr=0.5, bgr=0.0, mosaic=1.0, mixup=0.0, copy_paste=0.0, copy_paste_mode=flip, auto_augment=randaugment, erasing=0.4, crop_fraction=1.0, cfg=None, tracker=botsort.yaml, save_dir=runs/detect/train\n",
            "Downloading https://ultralytics.com/assets/Arial.ttf to '/root/.config/Ultralytics/Arial.ttf'...\n"
          ]
        },
        {
          "output_type": "stream",
          "name": "stderr",
          "text": [
            "100%|██████████| 755k/755k [00:00<00:00, 14.4MB/s]\n"
          ]
        },
        {
          "output_type": "stream",
          "name": "stdout",
          "text": [
            "Overriding model.yaml nc=80 with nc=1\n",
            "\n",
            "                   from  n    params  module                                       arguments                     \n",
            "  0                  -1  1       464  ultralytics.nn.modules.conv.Conv             [3, 16, 3, 2]                 \n",
            "  1                  -1  1      4672  ultralytics.nn.modules.conv.Conv             [16, 32, 3, 2]                \n",
            "  2                  -1  1      7360  ultralytics.nn.modules.block.C2f             [32, 32, 1, True]             \n",
            "  3                  -1  1     18560  ultralytics.nn.modules.conv.Conv             [32, 64, 3, 2]                \n",
            "  4                  -1  2     49664  ultralytics.nn.modules.block.C2f             [64, 64, 2, True]             \n",
            "  5                  -1  1     73984  ultralytics.nn.modules.conv.Conv             [64, 128, 3, 2]               \n",
            "  6                  -1  2    197632  ultralytics.nn.modules.block.C2f             [128, 128, 2, True]           \n",
            "  7                  -1  1    295424  ultralytics.nn.modules.conv.Conv             [128, 256, 3, 2]              \n",
            "  8                  -1  1    460288  ultralytics.nn.modules.block.C2f             [256, 256, 1, True]           \n",
            "  9                  -1  1    164608  ultralytics.nn.modules.block.SPPF            [256, 256, 5]                 \n",
            " 10                  -1  1         0  torch.nn.modules.upsampling.Upsample         [None, 2, 'nearest']          \n",
            " 11             [-1, 6]  1         0  ultralytics.nn.modules.conv.Concat           [1]                           \n",
            " 12                  -1  1    148224  ultralytics.nn.modules.block.C2f             [384, 128, 1]                 \n",
            " 13                  -1  1         0  torch.nn.modules.upsampling.Upsample         [None, 2, 'nearest']          \n",
            " 14             [-1, 4]  1         0  ultralytics.nn.modules.conv.Concat           [1]                           \n",
            " 15                  -1  1     37248  ultralytics.nn.modules.block.C2f             [192, 64, 1]                  \n",
            " 16                  -1  1     36992  ultralytics.nn.modules.conv.Conv             [64, 64, 3, 2]                \n",
            " 17            [-1, 12]  1         0  ultralytics.nn.modules.conv.Concat           [1]                           \n",
            " 18                  -1  1    123648  ultralytics.nn.modules.block.C2f             [192, 128, 1]                 \n",
            " 19                  -1  1    147712  ultralytics.nn.modules.conv.Conv             [128, 128, 3, 2]              \n",
            " 20             [-1, 9]  1         0  ultralytics.nn.modules.conv.Concat           [1]                           \n",
            " 21                  -1  1    493056  ultralytics.nn.modules.block.C2f             [384, 256, 1]                 \n",
            " 22        [15, 18, 21]  1    751507  ultralytics.nn.modules.head.Detect           [1, [64, 128, 256]]           \n",
            "Model summary: 225 layers, 3,011,043 parameters, 3,011,027 gradients, 8.2 GFLOPs\n",
            "\n",
            "Transferred 319/355 items from pretrained weights\n",
            "\u001b[34m\u001b[1mTensorBoard: \u001b[0mStart with 'tensorboard --logdir runs/detect/train', view at http://localhost:6006/\n",
            "Freezing layer 'model.22.dfl.conv.weight'\n"
          ]
        },
        {
          "output_type": "stream",
          "name": "stderr",
          "text": [
            "\u001b[34m\u001b[1mtrain: \u001b[0mScanning /content/People-Detection-11/train/labels... 5470 images, 34 backgrounds, 0 corrupt: 100%|██████████| 5470/5470 [00:06<00:00, 834.74it/s] \n"
          ]
        },
        {
          "output_type": "stream",
          "name": "stdout",
          "text": [
            "\u001b[34m\u001b[1mtrain: \u001b[0mNew cache created: /content/People-Detection-11/train/labels.cache\n",
            "\u001b[34m\u001b[1malbumentations: \u001b[0mBlur(p=0.01, blur_limit=(3, 7)), MedianBlur(p=0.01, blur_limit=(3, 7)), ToGray(p=0.01, num_output_channels=3, method='weighted_average'), CLAHE(p=0.01, clip_limit=(1.0, 4.0), tile_grid_size=(8, 8))\n"
          ]
        },
        {
          "output_type": "stream",
          "name": "stderr",
          "text": [
            "A new version of Albumentations is available: 1.4.21 (you have 1.4.20). Upgrade using: pip install -U albumentations. To disable automatic update checks, set the environment variable NO_ALBUMENTATIONS_UPDATE to 1.\n",
            "\u001b[34m\u001b[1mval: \u001b[0mScanning /content/People-Detection-11/valid/labels... 336 images, 1 backgrounds, 0 corrupt: 100%|██████████| 336/336 [00:00<00:00, 1656.31it/s]"
          ]
        },
        {
          "output_type": "stream",
          "name": "stdout",
          "text": [
            "\u001b[34m\u001b[1mval: \u001b[0mNew cache created: /content/People-Detection-11/valid/labels.cache\n"
          ]
        },
        {
          "output_type": "stream",
          "name": "stderr",
          "text": [
            "\n"
          ]
        },
        {
          "output_type": "stream",
          "name": "stdout",
          "text": [
            "Plotting labels to runs/detect/train/labels.jpg... \n",
            "\u001b[34m\u001b[1moptimizer:\u001b[0m 'optimizer=auto' found, ignoring 'lr0=0.01' and 'momentum=0.937' and determining best 'optimizer', 'lr0' and 'momentum' automatically... \n",
            "\u001b[34m\u001b[1moptimizer:\u001b[0m AdamW(lr=0.002, momentum=0.9) with parameter groups 57 weight(decay=0.0), 64 weight(decay=0.0005), 63 bias(decay=0.0)\n",
            "\u001b[34m\u001b[1mTensorBoard: \u001b[0mmodel graph visualization added ✅\n",
            "Image sizes 416 train, 416 val\n",
            "Using 0 dataloader workers\n",
            "Logging results to \u001b[1mruns/detect/train\u001b[0m\n",
            "Starting training for 10 epochs...\n",
            "Closing dataloader mosaic\n",
            "\u001b[34m\u001b[1malbumentations: \u001b[0mBlur(p=0.01, blur_limit=(3, 7)), MedianBlur(p=0.01, blur_limit=(3, 7)), ToGray(p=0.01, num_output_channels=3, method='weighted_average'), CLAHE(p=0.01, clip_limit=(1.0, 4.0), tile_grid_size=(8, 8))\n",
            "\n",
            "      Epoch    GPU_mem   box_loss   cls_loss   dfl_loss  Instances       Size\n"
          ]
        },
        {
          "output_type": "stream",
          "name": "stderr",
          "text": [
            "       1/10         0G      1.482      1.732      1.272        113        416:  43%|████▎     | 74/171 [17:17<25:21, 15.68s/it]"
          ]
        }
      ]
    },
    {
      "cell_type": "code",
      "source": [
        "print(type(model.names), len(model.names))\n",
        "\n",
        "print(model.names)"
      ],
      "metadata": {
        "id": "oH6nl56IRTBY"
      },
      "execution_count": null,
      "outputs": []
    },
    {
      "cell_type": "code",
      "source": [
        "#results = model.predict(source= video_link, save=True)"
      ],
      "metadata": {
        "id": "KCaojornRyls"
      },
      "execution_count": null,
      "outputs": []
    },
    {
      "cell_type": "code",
      "source": [
        "results = model(source=video_link, stream=True)"
      ],
      "metadata": {
        "id": "7XLz7sklSnwe",
        "collapsed": true
      },
      "execution_count": null,
      "outputs": []
    },
    {
      "cell_type": "code",
      "source": [
        "## 영상 리프레이밍"
      ],
      "metadata": {
        "id": "zhbFV7I6Pks3"
      },
      "execution_count": null,
      "outputs": []
    },
    {
      "cell_type": "code",
      "source": [
        "import cv2\n",
        "\n",
        "# 비디오 저장 설정 (세로 비율 9:16)\n",
        "width, height = 1080, 1920\n",
        "fourcc = cv2.VideoWriter_fourcc(*'mp4v')\n",
        "out = cv2.VideoWriter(output_video_path, fourcc, 30, (width, height))\n"
      ],
      "metadata": {
        "id": "pzroSdWpQ6Hu"
      },
      "execution_count": null,
      "outputs": []
    },
    {
      "cell_type": "code",
      "source": [
        "# YOLO 모델 추론 결과를 스트림으로 처리\n",
        "results = model(source=video_link, stream=True)"
      ],
      "metadata": {
        "id": "0xAz4S9sROLl"
      },
      "execution_count": 16,
      "outputs": []
    },
    {
      "cell_type": "code",
      "source": [
        "# 각 프레임에 대해 처리 및 저장\n",
        "for r in results:\n",
        "    frame = r.orig_img  # 원본 프레임 가져오기\n",
        "    bboxes = r.boxes.xywh  # 탐지된 객체의 경계 상자 (중심 x, 중심 y, 너비, 높이)\n"
      ],
      "metadata": {
        "id": "hvYei4paRRNa"
      },
      "execution_count": null,
      "outputs": []
    },
    {
      "cell_type": "code",
      "source": [
        "# 초기 설정\n",
        "frame_count = 0\n",
        "\n",
        "# 각 프레임에 대해 처리 및 저장\n",
        "for r in results:\n",
        "    frame = r.orig_img  # 원본 프레임 가져오기\n",
        "    bboxes = r.boxes.xywh  # 탐지된 객체의 경계 상자 (중심 x, 중심 y, 너비, 높이)\n",
        "\n",
        "    # 프레임 카운트 증가\n",
        "    frame_count += 1\n",
        "\n",
        "    # 인물이 등장하는 3프레임부터 탐지 수행\n",
        "    if frame_count >= 3:\n",
        "        # 결과 확인 및 bbox 처리\n",
        "        if bboxes.size(0) > 0:\n",
        "            # 탐지된 객체가 있을 경우 bbox 사용\n",
        "            for bbox in bboxes:\n",
        "                # bbox에 대해 추가 처리 수행\n",
        "                # 예: bounding box 그리기 등\n",
        "                x_center, y_center, width, height = bbox  # 예시\n",
        "                # 추가 코드 작성\n",
        "        else:\n",
        "            print(f\"No detections in frame {frame_count}\")\n"
      ],
      "metadata": {
        "id": "FA5yv0RsSFA9"
      },
      "execution_count": null,
      "outputs": []
    },
    {
      "cell_type": "code",
      "source": [
        "# 세로 규격에 맞게 크기 조정 후 저장\n",
        "cropped_frame = frame  # 필요에 따라 frame을 원하는 크기로 크롭\n",
        "resized_frame = cv2.resize(cropped_frame, (width, height))\n",
        "out.write(resized_frame)"
      ],
      "metadata": {
        "id": "isQeD6QpSH35"
      },
      "execution_count": null,
      "outputs": []
    },
    {
      "cell_type": "code",
      "source": [
        "output_path = '/content/drive/MyDrive/YOLO video assets/chuu_converted_video.mp4'\n",
        "\n",
        "# 필요한 설정 추가\n",
        "fourcc = cv2.VideoWriter_fourcc(*'mp4v')  # 코덱 설정 (예: 'mp4v' 또는 'XVID')\n",
        "fps = 30  # 초당 프레임 수 (원본 영상의 fps에 맞춰 설정)\n",
        "frame_size = (width, height)  # 프레임 크기 설정 (width와 height는 조정한 값 사용)\n",
        "\n",
        "# VideoWriter 객체 생성\n",
        "out = cv2.VideoWriter(output_path, fourcc, fps, frame_size)\n"
      ],
      "metadata": {
        "id": "CULfgOMWSKQt"
      },
      "execution_count": null,
      "outputs": []
    },
    {
      "cell_type": "code",
      "source": [
        "        # 세로 규격에 맞게 크기 조정\n",
        "        resized_frame = cv2.resize(cropped_frame, (width, height))\n",
        "        out.write(resized_frame)\n",
        "\n",
        "cap.release()\n",
        "out.release()"
      ],
      "metadata": {
        "id": "e6XDdSmfSMY8"
      },
      "execution_count": null,
      "outputs": []
    },
    {
      "cell_type": "code",
      "source": [
        "cv2.imshow(\"Reframed Video\", resized_frame)\n",
        "\n",
        "cap.release()\n",
        "out.release()\n",
        "cv2.destroyAllWindows()"
      ],
      "metadata": {
        "id": "m1dk6VvoSM5W"
      },
      "execution_count": null,
      "outputs": []
    }
  ]
}