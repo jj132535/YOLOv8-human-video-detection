{
  "nbformat": 4,
  "nbformat_minor": 0,
  "metadata": {
    "colab": {
      "provenance": [],
      "gpuType": "T4",
      "name": "YOLO_Human_Detection_Video.ipynb",
      "authorship_tag": "ABX9TyPjSkQ5XEfb3aVfOTS8wYLb",
      "include_colab_link": true
    },
    "kernelspec": {
      "name": "python3",
      "display_name": "Python 3"
    },
    "language_info": {
      "name": "python"
    },
    "accelerator": "GPU"
  },
  "cells": [
    {
      "cell_type": "markdown",
      "metadata": {
        "id": "view-in-github",
        "colab_type": "text"
      },
      "source": [
        "<a href=\"https://colab.research.google.com/github/jj132535/YOLOv8-human-video-detection/blob/main/YOLO_Human_Detection_Video.ipynb\" target=\"_parent\"><img src=\"https://colab.research.google.com/assets/colab-badge.svg\" alt=\"Open In Colab\"/></a>"
      ]
    },
    {
      "cell_type": "code",
      "source": [
        "!pip install PyYAML\n",
        "!pip install ultralytics"
      ],
      "metadata": {
        "id": "dq7ExbRkOTYE"
      },
      "execution_count": null,
      "outputs": []
    },
    {
      "cell_type": "code",
      "source": [
        "import yaml\n",
        "import ultralytics\n",
        "from roboflow import Roboflow\n",
        "from ultralytics import YOLO"
      ],
      "metadata": {
        "id": "30OZ3EowPOHw"
      },
      "execution_count": null,
      "outputs": []
    },
    {
      "cell_type": "code",
      "source": [
        "#add your video path\n",
        "video_path = '/content/dreamcatcher.mp4'\n",
        "\n",
        "#your own api_key\n",
        "roboflow_api_key = 'BaQK3K31NGd7tpZicwDT'\n",
        "\n",
        "#trained model\n",
        "#trained_model_path = '/content/yolov8_trained_model.pt'"
      ],
      "metadata": {
        "id": "1HC3vIm2OTRV"
      },
      "execution_count": null,
      "outputs": []
    },
    {
      "cell_type": "code",
      "source": [
        "#if you want to use another data, you can replace this block from roboflow.\n",
        "!pip install roboflow\n",
        "\n",
        "rf = Roboflow(api_key=roboflow_api_key)\n",
        "project = rf.workspace(\"chris-kydks\").project(\"people-detection-2csbw\")\n",
        "version = project.version(11)\n",
        "dataset = version.download(\"yolov8\")\n"
      ],
      "metadata": {
        "id": "KZSB_dwrvJlR"
      },
      "execution_count": null,
      "outputs": []
    },
    {
      "cell_type": "code",
      "source": [
        "!cat /content/People-Detection-11/data.yaml"
      ],
      "metadata": {
        "id": "BBtHcS07tnXB"
      },
      "execution_count": null,
      "outputs": []
    },
    {
      "cell_type": "code",
      "source": [
        "data = { 'train' : '/content/People-Detection-11/train/images',\n",
        "         'val' : '/content/People-Detection-11/valid/images',\n",
        "         'test' : '/content/People-Detection-11/test/images',\n",
        "          'names' : ['Person'],\n",
        "          'nc' : 1}\n",
        "\n",
        "with open('/content/People-Detection-11/test-data.yaml', 'w') as f:\n",
        "  yaml.dump(data, f)\n",
        "\n",
        "with open('/content/People-Detection-11/test-data.yaml','r') as f:\n",
        "  people_data = yaml.safe_load(f)\n",
        "  display(people_data)"
      ],
      "metadata": {
        "id": "tPyPsX45Olda"
      },
      "execution_count": null,
      "outputs": []
    },
    {
      "cell_type": "code",
      "source": [
        "ultralytics.checks()"
      ],
      "metadata": {
        "id": "Hd49oufdQDYT"
      },
      "execution_count": null,
      "outputs": []
    },
    {
      "cell_type": "code",
      "source": [
        "model = YOLO('yolov8n.pt')"
      ],
      "metadata": {
        "id": "r0bGqNpaQMpL"
      },
      "execution_count": null,
      "outputs": []
    },
    {
      "cell_type": "code",
      "source": [
        "print(type(model.names), len(model.names))\n",
        "\n",
        "print(model.names)"
      ],
      "metadata": {
        "id": "Tu5EQKgSQZzE"
      },
      "execution_count": null,
      "outputs": []
    },
    {
      "cell_type": "code",
      "source": [
        "model.train(data = '/content/People-Detection-11/test-data.yaml', epochs = 10, batch =32, imgsz = 416)"
      ],
      "metadata": {
        "id": "Fx2XhiobRFih"
      },
      "execution_count": null,
      "outputs": []
    },
    {
      "cell_type": "code",
      "source": [
        "#model.save('/content/yolov8_trained_model.pt')"
      ],
      "metadata": {
        "id": "zfVKMXlKQrYP"
      },
      "execution_count": null,
      "outputs": []
    },
    {
      "cell_type": "code",
      "source": [
        "# 저장된 모델 불러오기\n",
        "#model = YOLO(trained_model_path)"
      ],
      "metadata": {
        "id": "krHeDkSiRfNS"
      },
      "execution_count": null,
      "outputs": []
    },
    {
      "cell_type": "code",
      "source": [
        "print(type(model.names), len(model.names))\n",
        "\n",
        "print(model.names)"
      ],
      "metadata": {
        "id": "oH6nl56IRTBY"
      },
      "execution_count": null,
      "outputs": []
    },
    {
      "cell_type": "code",
      "source": [
        "results = model.predict(source=video_path, save=True)"
      ],
      "metadata": {
        "id": "KCaojornRyls"
      },
      "execution_count": null,
      "outputs": []
    }
  ]
}